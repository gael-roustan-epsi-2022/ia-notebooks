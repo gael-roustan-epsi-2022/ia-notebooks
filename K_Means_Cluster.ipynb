{
  "nbformat": 4,
  "nbformat_minor": 0,
  "metadata": {
    "colab": {
      "name": "K-Means-Cluster.ipynb",
      "provenance": [],
      "authorship_tag": "ABX9TyPWyjv7SFrZCUUYXWNDBAbn",
      "include_colab_link": true
    },
    "kernelspec": {
      "name": "python3",
      "display_name": "Python 3"
    },
    "language_info": {
      "name": "python"
    }
  },
  "cells": [
    {
      "cell_type": "markdown",
      "metadata": {
        "id": "view-in-github",
        "colab_type": "text"
      },
      "source": [
        "<a href=\"https://colab.research.google.com/github/gael-roustan-epsi-2022/ia-notebooks/blob/main/K_Means_Cluster.ipynb\" target=\"_parent\"><img src=\"https://colab.research.google.com/assets/colab-badge.svg\" alt=\"Open In Colab\"/></a>"
      ]
    },
    {
      "cell_type": "markdown",
      "source": [
        "La méthode de clustering des k-means est une méthode dite non-supervisée. Cela signifie que nous ne commeçons pas le résultat attendu et donc il n'est pas possible d'entraîner notre modèle en fonction d'un résultat attendu."
      ],
      "metadata": {
        "id": "2P9TIr-Un81_"
      }
    },
    {
      "cell_type": "markdown",
      "source": [
        "Le clustering est un moyen de regrouper différents points dans un même ensemble en considérant un centre (ou plutôt appelé centroïde) dont les points sont les plus proches possibles."
      ],
      "metadata": {
        "id": "zEuX8AEnoUcF"
      }
    },
    {
      "cell_type": "markdown",
      "source": [
        "Certains modules ne sont pas présents par défaut, notamment le module kneed qu'il faut installer grâce au gestionnaire de paquets python pip."
      ],
      "metadata": {
        "id": "pGAhgQrNpF_W"
      }
    },
    {
      "cell_type": "code",
      "source": [
        "!pip install kneed"
      ],
      "metadata": {
        "colab": {
          "base_uri": "https://localhost:8080/"
        },
        "id": "Byxxjpm4o9yf",
        "outputId": "b60828ef-b7e8-4df7-932d-d90e038f4969"
      },
      "execution_count": 2,
      "outputs": [
        {
          "output_type": "stream",
          "name": "stdout",
          "text": [
            "Collecting kneed\n",
            "  Downloading kneed-0.7.0-py2.py3-none-any.whl (9.4 kB)\n",
            "Requirement already satisfied: numpy>=1.14.2 in /usr/local/lib/python3.7/dist-packages (from kneed) (1.21.5)\n",
            "Requirement already satisfied: matplotlib in /usr/local/lib/python3.7/dist-packages (from kneed) (3.2.2)\n",
            "Requirement already satisfied: scipy in /usr/local/lib/python3.7/dist-packages (from kneed) (1.4.1)\n",
            "Requirement already satisfied: pyparsing!=2.0.4,!=2.1.2,!=2.1.6,>=2.0.1 in /usr/local/lib/python3.7/dist-packages (from matplotlib->kneed) (3.0.8)\n",
            "Requirement already satisfied: cycler>=0.10 in /usr/local/lib/python3.7/dist-packages (from matplotlib->kneed) (0.11.0)\n",
            "Requirement already satisfied: python-dateutil>=2.1 in /usr/local/lib/python3.7/dist-packages (from matplotlib->kneed) (2.8.2)\n",
            "Requirement already satisfied: kiwisolver>=1.0.1 in /usr/local/lib/python3.7/dist-packages (from matplotlib->kneed) (1.4.2)\n",
            "Requirement already satisfied: typing-extensions in /usr/local/lib/python3.7/dist-packages (from kiwisolver>=1.0.1->matplotlib->kneed) (4.1.1)\n",
            "Requirement already satisfied: six>=1.5 in /usr/local/lib/python3.7/dist-packages (from python-dateutil>=2.1->matplotlib->kneed) (1.15.0)\n",
            "Installing collected packages: kneed\n",
            "Successfully installed kneed-0.7.0\n"
          ]
        }
      ]
    },
    {
      "cell_type": "markdown",
      "source": [
        "voici les différents imports nécessaires"
      ],
      "metadata": {
        "id": "qAgRaGXepPL6"
      }
    },
    {
      "cell_type": "code",
      "execution_count": 3,
      "metadata": {
        "id": "w3rLzeTbmj6W"
      },
      "outputs": [],
      "source": [
        "import matplotlib.pyplot as plt\n",
        "from kneed import KneeLocator\n",
        "from sklearn.datasets import make_blobs\n",
        "from sklearn.cluster import KMeans\n",
        "from sklearn.metrics import silhouette_score\n",
        "from sklearn.preprocessing import StandardScaler"
      ]
    },
    {
      "cell_type": "markdown",
      "source": [
        "Nous commeçons par générer un jeu de données complètement factice grâce à la méthode `make_blobs`"
      ],
      "metadata": {
        "id": "n89XblEYpUGO"
      }
    },
    {
      "cell_type": "code",
      "source": [
        "features, true_labels = make_blobs(\n",
        "    n_samples=200,\n",
        "    centers=3,\n",
        "    cluster_std=2.75,\n",
        "    random_state=42\n",
        ")"
      ],
      "metadata": {
        "id": "JOELMkZupUZ8"
      },
      "execution_count": 4,
      "outputs": []
    },
    {
      "cell_type": "markdown",
      "source": [
        "Afficher les 10 premiers éléments des caractéristiques (features)"
      ],
      "metadata": {
        "id": "pGldm294qASa"
      }
    },
    {
      "cell_type": "code",
      "source": [
        "print('FIXME')"
      ],
      "metadata": {
        "id": "8eqi7uECqFmY"
      },
      "execution_count": null,
      "outputs": []
    },
    {
      "cell_type": "markdown",
      "source": [
        "Afficher les 10 premiers éléments des résultats (labels)"
      ],
      "metadata": {
        "id": "EBeTB-4GqIlS"
      }
    },
    {
      "cell_type": "code",
      "source": [
        "print('FIXME')"
      ],
      "metadata": {
        "id": "OS6Dh_BqqSbp"
      },
      "execution_count": null,
      "outputs": []
    },
    {
      "cell_type": "markdown",
      "source": [
        "Comme tous les problèmes de Machine Learning, avant de commencer à modéliser notre problème, nos différentes caractéristiques doivent être à la même échelle, il faut donc les normaliser."
      ],
      "metadata": {
        "id": "5KrZ8EfUpvz5"
      }
    },
    {
      "cell_type": "code",
      "source": [
        "scaler = StandardScaler()\n",
        "scaled_features = scaler.fit_transform(features)"
      ],
      "metadata": {
        "id": "F2A3nSNkp5pZ"
      },
      "execution_count": 5,
      "outputs": []
    },
    {
      "cell_type": "markdown",
      "source": [
        "Il existe plein d'autres méthodes de normalisation. Faites une recherche pour trouver comment utiliser la méthode du MinMax en respectant la même méthode d'application que la Standard."
      ],
      "metadata": {
        "id": "HnzgeN1zqXCR"
      }
    },
    {
      "cell_type": "code",
      "source": [
        "print('FIXME')\n"
      ],
      "metadata": {
        "id": "8CeKTJm9qj0Y"
      },
      "execution_count": null,
      "outputs": []
    },
    {
      "cell_type": "markdown",
      "source": [
        "Notre jeu de données étant normalisé, nous sommes prêts à tenter de définir des regroupements. Quelques explications sur les paramètres\n",
        " \n",
        "\n",
        "*   init : spécifie une technique d'initilisation des centroides\n",
        "*   n_clusters : spécifie le nombre de clusters attendu\n",
        "*   n_init : nombre de scénarios de départ à réaliser pour ensuite renvoyer le k-means possédant la plus petite erreur SSE\n",
        "*   max_iter : nombre maximum d'itérations\n",
        "\n"
      ],
      "metadata": {
        "id": "Oz53kImcp894"
      }
    },
    {
      "cell_type": "code",
      "source": [
        "kmeans = KMeans(\n",
        "    init=\"random\",\n",
        "    n_clusters=3,\n",
        "    n_init=10,\n",
        "    max_iter=300,\n",
        "    random_state=42\n",
        ")"
      ],
      "metadata": {
        "id": "yTGAXMXYqvyd"
      },
      "execution_count": 28,
      "outputs": []
    },
    {
      "cell_type": "markdown",
      "source": [
        "Le modèle est prêt à être appliqué à notre jeu de données normalisé"
      ],
      "metadata": {
        "id": "rICmH1tvrh1F"
      }
    },
    {
      "cell_type": "code",
      "source": [
        "kmeans.fit(scaled_features)"
      ],
      "metadata": {
        "colab": {
          "base_uri": "https://localhost:8080/"
        },
        "id": "PYvp1MU1rlyv",
        "outputId": "70863570-31af-4181-e1a0-1119d845592b"
      },
      "execution_count": 29,
      "outputs": [
        {
          "output_type": "execute_result",
          "data": {
            "text/plain": [
              "KMeans(init='random', n_clusters=3, random_state=42)"
            ]
          },
          "metadata": {},
          "execution_count": 29
        }
      ]
    },
    {
      "cell_type": "markdown",
      "source": [
        "Une fois le traitement terminé via l'appel de la méthode `fit`, `kmeans`  possède de nouveaux attributs\n",
        "* `inertia_` : donne l'erreur\n",
        "* `cluster_centers_`\n",
        "* `n_iter_`\n",
        "* `labels_`\n",
        "\n",
        "\n",
        "Afficher chacun de ces paramètres et donner le type de `labels_`"
      ],
      "metadata": {
        "id": "CYkJnbAQrpaZ"
      }
    },
    {
      "cell_type": "code",
      "source": [
        "print('FIXME')"
      ],
      "metadata": {
        "id": "rmiwW4kdr6u2"
      },
      "execution_count": null,
      "outputs": []
    },
    {
      "cell_type": "markdown",
      "source": [
        "Plutôt que de spécifier le nombre de clusters en dur, il est possible de trouver le nombre optimal de clusters. Il existe 2 principales méthodes.\n",
        "\n",
        "\n",
        "1.   elbow method (point d'inflexion)\n",
        "2.   silhouette coefficient\n",
        "\n"
      ],
      "metadata": {
        "id": "HqilzoQJr7_8"
      }
    },
    {
      "cell_type": "code",
      "source": [
        "kmeans_kwargs = {\n",
        "    \"init\": \"random\",\n",
        "    \"n_init\": 10,\n",
        "    \"max_iter\": 300,\n",
        "    \"random_state\": 42,\n",
        "}\n",
        "\n",
        "# A list holds the SSE values for each k\n",
        "sse = []\n",
        "for k in range(1, 11):\n",
        "    kmeans = KMeans(n_clusters=k, **kmeans_kwargs)\n",
        "    kmeans.fit(scaled_features)\n",
        "    sse.append(kmeans.inertia_)"
      ],
      "metadata": {
        "id": "4QEJjWKhs34i"
      },
      "execution_count": 9,
      "outputs": []
    },
    {
      "cell_type": "markdown",
      "source": [
        "Pour visualiser le point d'inflexion avant de tenter de le trouver programmatiquement, voici le code pour afficher le graphique de l'évolution du SSE en fonction du nombre de clusters."
      ],
      "metadata": {
        "id": "IIjUOgCxtJPa"
      }
    },
    {
      "cell_type": "code",
      "source": [
        " plt.style.use(\"fivethirtyeight\")\n",
        " plt.plot(range(1, 11), sse)\n",
        " plt.xticks(range(1, 11))\n",
        " plt.xlabel(\"Number of Clusters\")\n",
        " plt.ylabel(\"SSE\")\n",
        " plt.show()"
      ],
      "metadata": {
        "colab": {
          "base_uri": "https://localhost:8080/",
          "height": 304
        },
        "id": "xMWDIcMFtTVe",
        "outputId": "02b83c53-5d30-43e9-fe82-20704fad323a"
      },
      "execution_count": 10,
      "outputs": [
        {
          "output_type": "display_data",
          "data": {
            "text/plain": [
              "<Figure size 432x288 with 1 Axes>"
            ],
            "image/png": "[encoded data removed]"
          },
          "metadata": {}
        }
      ]
    },
    {
      "cell_type": "markdown",
      "source": [
        "Pour trouver le point d'inflexion programmatiquement, il faut utiliser le module KneeLocator"
      ],
      "metadata": {
        "id": "z3NEHxN4tXHA"
      }
    },
    {
      "cell_type": "code",
      "source": [
        "kl = KneeLocator(\n",
        "    range(1, 11), sse, curve=\"convex\", direction=\"decreasing\"\n",
        ")\n",
        "\n",
        "kl.elbow"
      ],
      "metadata": {
        "colab": {
          "base_uri": "https://localhost:8080/"
        },
        "id": "704b6bj_tc1q",
        "outputId": "0735445f-c35f-46cc-8f42-a54fe3145216"
      },
      "execution_count": 11,
      "outputs": [
        {
          "output_type": "execute_result",
          "data": {
            "text/plain": [
              "3"
            ]
          },
          "metadata": {},
          "execution_count": 11
        }
      ]
    },
    {
      "cell_type": "markdown",
      "source": [
        "Pour terminer, affichons les points et les centroides."
      ],
      "metadata": {
        "id": "zBQ1S5Jdtk6q"
      }
    },
    {
      "cell_type": "code",
      "source": [
        "print('FIXME')"
      ],
      "metadata": {
        "colab": {
          "base_uri": "https://localhost:8080/",
          "height": 282
        },
        "id": "foOo73RRvbjG",
        "outputId": "0577a79d-4ec6-4712-b89a-25a1a9f40611"
      },
      "execution_count": 31,
      "outputs": [
        {
          "output_type": "display_data",
          "data": {
            "text/plain": [
              "<Figure size 432x288 with 1 Axes>"
            ],
            "image/png": "[encoded data removed]"
          },
          "metadata": {}
        }
      ]
    }
  ]
}